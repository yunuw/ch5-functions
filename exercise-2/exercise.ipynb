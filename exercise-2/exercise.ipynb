{
 "cells": [
  {
   "cell_type": "markdown",
   "metadata": {},
   "source": [
    "# Exercise 2\n",
    "Add the specified code for each code cell, running the cells _in order_.\n",
    "\n",
    "Note this module involves verifying some [trigonometric identities](https://en.wikipedia.org/wiki/List_of_trigonometric_identities)."
   ]
  },
  {
   "cell_type": "markdown",
   "metadata": {},
   "source": [
    "Import the [math](https://docs.python.org/3/library/math.html) module so you can use mathematical functions"
   ]
  },
  {
   "cell_type": "code",
   "execution_count": 1,
   "metadata": {
    "collapsed": true
   },
   "outputs": [],
   "source": [
    "import math"
   ]
  },
  {
   "cell_type": "markdown",
   "metadata": {},
   "source": [
    "Choose any number between 0 and 360 and assign it to a variable `angle_degrees`."
   ]
  },
  {
   "cell_type": "code",
   "execution_count": 7,
   "metadata": {},
   "outputs": [],
   "source": [
    "import random\n",
    "angle_degree = random.randint(0, 360)"
   ]
  },
  {
   "cell_type": "markdown",
   "metadata": {},
   "source": [
    "Use an appropriate function from the `math` module to convert the degrees value into radians. Store the result in a variable `theta`"
   ]
  },
  {
   "cell_type": "code",
   "execution_count": 8,
   "metadata": {},
   "outputs": [
    {
     "data": {
      "text/plain": [
       "6.178465552059927"
      ]
     },
     "execution_count": 8,
     "metadata": {},
     "output_type": "execute_result"
    }
   ],
   "source": [
    "theta = math.radians(angle_degree)\n",
    "theta"
   ]
  },
  {
   "cell_type": "markdown",
   "metadata": {},
   "source": [
    "Calculate and output the [tangent](https://en.wikipedia.org/wiki/Trigonometric_functions#tan) of `theta`"
   ]
  },
  {
   "cell_type": "code",
   "execution_count": 9,
   "metadata": {},
   "outputs": [
    {
     "data": {
      "text/plain": [
       "-0.10510423526567642"
      ]
     },
     "execution_count": 9,
     "metadata": {},
     "output_type": "execute_result"
    }
   ],
   "source": [
    "math.tan(theta)"
   ]
  },
  {
   "cell_type": "markdown",
   "metadata": {},
   "source": [
    "Calculate $\\tan(\\theta + \\pi)$. Output the value to verify that it is the same as $\\tan \\theta$ above."
   ]
  },
  {
   "cell_type": "code",
   "execution_count": 10,
   "metadata": {},
   "outputs": [
    {
     "data": {
      "text/plain": [
       "-0.10510423526567741"
      ]
     },
     "execution_count": 10,
     "metadata": {},
     "output_type": "execute_result"
    }
   ],
   "source": [
    "math.tan(theta + math.pi)"
   ]
  },
  {
   "cell_type": "markdown",
   "metadata": {},
   "source": [
    "Calculate $\\sin 2 \\theta$ and $2\\sin \\theta \\cos \\theta$. Print the values to verify that they are equivalent.\n"
   ]
  },
  {
   "cell_type": "code",
   "execution_count": 11,
   "metadata": {},
   "outputs": [
    {
     "name": "stdout",
     "output_type": "stream",
     "text": [
      "-0.20791169081775923\n",
      "-0.2079116908177592\n"
     ]
    }
   ],
   "source": [
    "print(math.sin(2*theta))\n",
    "print(2*math.sin(theta)*math.cos(theta))"
   ]
  },
  {
   "cell_type": "markdown",
   "metadata": {},
   "source": [
    "Calculate $\\sin^2 \\theta+\\cos^2 \\theta$. Visually verify that this value is equal to `1`. (Note that there may be rounding errors because of a lack of precision with floating point operations.)\n"
   ]
  },
  {
   "cell_type": "code",
   "execution_count": 12,
   "metadata": {},
   "outputs": [
    {
     "data": {
      "text/plain": [
       "0.9999999999999999"
      ]
     },
     "execution_count": 12,
     "metadata": {},
     "output_type": "execute_result"
    }
   ],
   "source": [
    "pow(math.sin(theta),2)+pow(math.cos(theta),2)"
   ]
  },
  {
   "cell_type": "markdown",
   "metadata": {},
   "source": [
    "Import just the `random()` function from the [`random`](https://docs.python.org/3/library/random.html) module."
   ]
  },
  {
   "cell_type": "code",
   "execution_count": 16,
   "metadata": {
    "collapsed": true
   },
   "outputs": [],
   "source": [
    "from random import random"
   ]
  },
  {
   "cell_type": "markdown",
   "metadata": {},
   "source": [
    "Call the `random()` function twice, printing out the results each time. Also run this cell multiple times to demonstrate that the ouput does in fact appear to be (pseudo)random."
   ]
  },
  {
   "cell_type": "code",
   "execution_count": 17,
   "metadata": {},
   "outputs": [
    {
     "name": "stdout",
     "output_type": "stream",
     "text": [
      "0.6390203602083862\n",
      "0.40226869236933094\n"
     ]
    }
   ],
   "source": [
    "print(random())\n",
    "print(random())"
   ]
  },
  {
   "cell_type": "markdown",
   "metadata": {},
   "source": [
    "Generate a random integer between 3 and 18 (inclusive). Import and use an appropriate function from the `random` module."
   ]
  },
  {
   "cell_type": "code",
   "execution_count": 20,
   "metadata": {},
   "outputs": [
    {
     "data": {
      "text/plain": [
       "14"
      ]
     },
     "execution_count": 20,
     "metadata": {},
     "output_type": "execute_result"
    }
   ],
   "source": [
    "import random\n",
    "random.randint(3, 18)"
   ]
  },
  {
   "cell_type": "markdown",
   "metadata": {},
   "source": [
    "Import the `seed()` function from the `random` module. This function sets the \"seed\" value used to generate random numbers. Random numbers are generated by taking a seed value and then performing mathematical transformations to it to produce the \"random\" number. The resulting value is then used as the \"seed\" for the next random number generated, allowing sequences of \"pseudorandom\" numbers to be produced. See [here](https://en.wikipedia.org/wiki/Pseudorandom_number_generator) for details. The seed value is normally taken from \"noisy\" values (such as based on the computer's clock), but the `seed()` function allows you to effectively specify \"which sequence\" of random numbers will be produced."
   ]
  },
  {
   "cell_type": "code",
   "execution_count": 23,
   "metadata": {
    "collapsed": true
   },
   "outputs": [],
   "source": [
    "from random import seed\n",
    "from random import random"
   ]
  },
  {
   "cell_type": "markdown",
   "metadata": {},
   "source": [
    "Use the `seed()` function to set the seed value to be `511`, then call `random()` again twice (printing the results). Then call `seed()` _a second time_, again setting the seed value to be `511`, and call and print `random()` twice more. Are the numbers the same?"
   ]
  },
  {
   "cell_type": "code",
   "execution_count": 25,
   "metadata": {},
   "outputs": [
    {
     "name": "stdout",
     "output_type": "stream",
     "text": [
      "first sequence\n",
      "0.10846537689444802\n",
      "0.12185450750738691\n",
      "second sequence\n",
      "0.10846537689444802\n",
      "0.12185450750738691\n"
     ]
    }
   ],
   "source": [
    "print(\"first sequence\")\n",
    "seed(511)\n",
    "print(random())\n",
    "print(random())\n",
    "\n",
    "print(\"second sequence\")\n",
    "seed(511)\n",
    "print(random())\n",
    "print(random())"
   ]
  },
  {
   "cell_type": "markdown",
   "metadata": {},
   "source": [
    "Set `theta` to be a random number between `0` and $2\\pi$, then re-run the above cells that calculated trig identities. Do the identities hold?"
   ]
  },
  {
   "cell_type": "code",
   "execution_count": 28,
   "metadata": {},
   "outputs": [],
   "source": [
    "from random import uniform\n",
    "theta = uniform(0, 2*math.pi)"
   ]
  },
  {
   "cell_type": "code",
   "execution_count": null,
   "metadata": {
    "collapsed": true
   },
   "outputs": [],
   "source": []
  }
 ],
 "metadata": {
  "kernelspec": {
   "display_name": "Python 3",
   "language": "python",
   "name": "python3"
  },
  "language_info": {
   "codemirror_mode": {
    "name": "ipython",
    "version": 3
   },
   "file_extension": ".py",
   "mimetype": "text/x-python",
   "name": "python",
   "nbconvert_exporter": "python",
   "pygments_lexer": "ipython3",
   "version": "3.6.3"
  },
  "toc": {
   "colors": {
    "hover_highlight": "#DAA520",
    "running_highlight": "#FF0000",
    "selected_highlight": "#FFD700"
   },
   "moveMenuLeft": true,
   "nav_menu": {
    "height": "30px",
    "width": "252px"
   },
   "navigate_menu": true,
   "number_sections": true,
   "sideBar": true,
   "threshold": 4,
   "toc_cell": false,
   "toc_section_display": "block",
   "toc_window_display": false,
   "widenNotebook": false
  }
 },
 "nbformat": 4,
 "nbformat_minor": 2
}
